{
 "cells": [
  {
   "cell_type": "markdown",
   "metadata": {},
   "source": [
    "\n",
    "[<img align=\"right\" src=\"./doc/jupyter_nb/SPM_Top.jpg\" width=\"10%\" height=\"10%\">](./doc/jupyter_nb/SPM_Top.jpg)\n",
    " \n",
    "# Kinematics Analysis of a 3-RRR Spatial Parallel Mechanism\n",
    "\n",
    "## Introduction\n",
    "\n",
    "Spatial Parallel Mechanisms (SPMs) are a class of robotic systems that utilize multiple kinematic chains in parallel to achieve a combination of translation and rotation motions in three-dimensional space. One common type of SPM is the 3-RRR mechanism, where \"3\" denotes the number of legs and \"RRR\" signifies revolute-revolute-revolute joints in each leg.\n",
    "\n",
    "This Jupyter Lab notebook aims to perform a kinematic analysis of a 3-RRR SPM. Kinematics, in the context of robotics, deals with the study of motion without considering the forces causing the motion. Understanding the kinematics of a mechanism is crucial for designing and controlling robotic systems.\n",
    "\n",
    "### Objectives\n",
    "\n",
    "1. **Forward Kinematics:** Derive the equations to determine the end-effector position and orientation based on the joint angles of the 3-RRR SPM.\n",
    "2. **Inverse Kinematics:** Develop algorithms to compute the joint angles required to achieve a desired end-effector pose.\n",
    "3. **Workspace Analysis:** Explore the reachable workspace of the 3-RRR mechanism to understand its motion capabilities.\n",
    "4. **Visualization:** Utilize visualizations to represent the motion and workspace of the 3-RRR SPM.\n",
    "\n",
    "### Tools and Libraries\n",
    "\n",
    "We will use Python for the implementation, and the following libraries:\n",
    "\n",
    "- **SymPy:** Symbolic mathematics library for deriving kinematic equations.\n",
    "- **Matplotlib:** Plotting library for visualizing the mechanism's motion and workspace.\n",
    "\n",
    "Let's dive into the kinematics of the 3-RRR SPM and explore its behavior in three-dimensional space.\n",
    "\n",
    "[<img src=\"./doc/jupyter_nb/SPM_Side_2.jpg\" width=\"10%\" height=\"10%\">](./doc/jupyter_nb/SPM_Side_2.jpg)\n",
    "\n",
    "#### Parameters\n",
    "The basic parameters that decide the mechanical configuration are denoted by \n",
    "\n",
    "$\\theta_i$ = Input joint position theta \\\n",
    "$\\alpha_1$, $\\alpha_2$ = The links curvature alpha 1 and alpha 2 \\\n",
    "$\\beta$, $\\gamma$ = The geometry of the regular triangular pyramids beta and gamma (gamma = 0) \\\n",
    "$u_i$, $v_i$, $w_i$ = The unit vectors u, v, w \\\n",
    "$i_1$, $i_2$, $i_3$ = three equally-spaced legs i \\\n",
    "$x_0$ = initial guess vector \\\n",
    "$\\eta$ where eta is $\\eta_i$ = 2($i$ - 1)$\\pi$/3, $i$ = 1, 2, 3\n"
   ]
  },
  {
   "cell_type": "markdown",
   "metadata": {},
   "source": [
    "[<img src=\"doc/jupyter_nb/textbox.jpg\" width=\"50%\" height=\"50%\">](doc/jupyter_nb/textbox.jpg)"
   ]
  },
  {
   "cell_type": "code",
   "execution_count": 91,
   "metadata": {},
   "outputs": [
    {
     "data": {
      "text/latex": [
       "$\\displaystyle \\alpha_3 = 2 \\operatorname{asin}{\\left(\\frac{\\sqrt{3} \\sin{\\left(\\beta \\right)}}{2} \\right)}$"
      ],
      "text/plain": [
       "<IPython.core.display.Math object>"
      ]
     },
     "metadata": {},
     "output_type": "display_data"
    },
    {
     "data": {
      "text/latex": [
       "$\\displaystyle w_i = \\left[\\begin{matrix}\\sin{\\left(\\alpha_{1} \\right)} \\cos{\\left(\\eta_{i} - \\theta_{i} \\right)}\\\\\\sin{\\left(\\alpha_{1} \\right)} \\sin{\\left(\\eta_{i} - \\theta_{i} \\right)}\\\\- \\cos{\\left(\\alpha_{1} \\right)}\\end{matrix}\\right]$"
      ],
      "text/plain": [
       "<IPython.core.display.Math object>"
      ]
     },
     "metadata": {},
     "output_type": "display_data"
    },
    {
     "data": {
      "text/latex": [
       "$\\displaystyle \\eta_i = \\left[ 0, \\  \\frac{2 \\pi}{3}, \\  \\frac{4 \\pi}{3}\\right]$"
      ],
      "text/plain": [
       "<IPython.core.display.Math object>"
      ]
     },
     "metadata": {},
     "output_type": "display_data"
    }
   ],
   "source": [
    "import sympy as sp\n",
    "from sympy import symbols, cos, sin, pi, sqrt, asin, Matrix, Function, Eq, N\n",
    "from IPython.display import display, Math\n",
    "sp.init_printing()\n",
    "\n",
    "# define symbols here\n",
    "\n",
    "theta_i = sp.Symbol('theta_i')\n",
    "alpha_1 = sp.Symbol('alpha_1')\n",
    "alpha_2 = sp.Symbol('alpha_2')\n",
    "alpha_3 = sp.Symbol('alpha_3')\n",
    "\n",
    "beta = sp.Symbol('beta')\n",
    "beta_i = sp.Symbol('beta_i')\n",
    "gamma = sp.Symbol('gamma')\n",
    "\n",
    "ui = sp.Symbol('u_i')\n",
    "vi = sp.Symbol('v_i')\n",
    "wi = sp.Symbol('w_i')\n",
    "\n",
    "i1 = sp.Symbol('i_1')\n",
    "i2 = sp.Symbol('i_2')\n",
    "i3 = sp.Symbol('i_3')\n",
    "\n",
    "x0 = sp.Symbol('x_0')\n",
    "\n",
    "eta_i = sp.Symbol('eta_i')\n",
    "\n",
    "# define expresions here\n",
    "\n",
    "alpha_3 = 2 * asin(sin(beta) * cos(pi/6))\n",
    "wi = Matrix([[cos(eta_i-theta_i)*sin(alpha_1)],[sin(eta_i-theta_i)*sin(alpha_1)],[-cos(alpha_1)]])\n",
    "eta_i = [2 * (i - 1) * pi / 3 for i in range(1, 4)]\n",
    "\n",
    "display(Math('\\\\alpha_3 = ' + sp.latex(alpha_3)))\n",
    "display(Math('w_i = ' + sp.latex(wi)))\n",
    "display(Math('\\\\eta_i = ' + sp.latex(eta_i)))"
   ]
  },
  {
   "cell_type": "code",
   "execution_count": 92,
   "metadata": {},
   "outputs": [
    {
     "data": {
      "text/latex": [
       "$\\displaystyle \\alpha_3 = 2 \\operatorname{asin}{\\left(0.5 \\sqrt{3} \\right)}$"
      ],
      "text/plain": [
       "<IPython.core.display.Math object>"
      ]
     },
     "metadata": {},
     "output_type": "display_data"
    },
    {
     "data": {
      "text/latex": [
       "$\\displaystyle \\alpha_3 = 2.0943951023932$"
      ],
      "text/plain": [
       "<IPython.core.display.Math object>"
      ]
     },
     "metadata": {},
     "output_type": "display_data"
    },
    {
     "name": "stdout",
     "output_type": "stream",
     "text": [
      "beta has a fixed value of 90°\n",
      "Numerical value of alpha_3 after substitution:  2.09439510239320\n"
     ]
    }
   ],
   "source": [
    "# Define the numerical value\n",
    "beta_value = sp.N(90 * sp.pi / 180)\n",
    "\n",
    "# Substitute the symbol with the numerical value\n",
    "alpha_3_subs = alpha_3.subs(beta, beta_value)\n",
    "\n",
    "# Display the result\n",
    "display(Math('\\\\alpha_3 = ' + sp.latex(alpha_3_subs)))\n",
    "\n",
    "# Get the numerical value\n",
    "alpha_3_subs_numerical = alpha_3_subs.evalf()\n",
    "display(Math('\\\\alpha_3 = ' + sp.latex(sp.N(alpha_3_subs))))\n",
    "print(\"beta has a fixed value of 90°\")\n",
    "print(\"Numerical value of alpha_3 after substitution: \", alpha_3_subs_numerical)"
   ]
  },
  {
   "cell_type": "code",
   "execution_count": 105,
   "metadata": {},
   "outputs": [
    {
     "data": {
      "text/latex": [
       "$\\displaystyle w1 = \\left[\\begin{matrix}\\frac{\\sqrt{2} \\left(- \\frac{\\sqrt{6}}{4} - \\frac{\\sqrt{2}}{4}\\right)}{2}\\\\\\frac{\\sqrt{2} \\left(- \\frac{\\sqrt{2}}{4} + \\frac{\\sqrt{6}}{4}\\right)}{2}\\\\- \\frac{\\sqrt{2}}{2}\\end{matrix}\\right]$"
      ],
      "text/plain": [
       "<IPython.core.display.Math object>"
      ]
     },
     "metadata": {},
     "output_type": "display_data"
    },
    {
     "data": {
      "text/latex": [
       "$\\displaystyle w2 = \\left[\\begin{matrix}\\frac{\\sqrt{2}}{4}\\\\\\frac{\\sqrt{6}}{4}\\\\- \\frac{\\sqrt{2}}{2}\\end{matrix}\\right]$"
      ],
      "text/plain": [
       "<IPython.core.display.Math object>"
      ]
     },
     "metadata": {},
     "output_type": "display_data"
    },
    {
     "data": {
      "text/latex": [
       "$\\displaystyle w3 = \\left[\\begin{matrix}\\frac{\\sqrt{2} \\sin{\\left(\\frac{\\pi}{36} \\right)}}{2}\\\\- \\frac{\\sqrt{2} \\cos{\\left(\\frac{\\pi}{36} \\right)}}{2}\\\\- \\frac{\\sqrt{2}}{2}\\end{matrix}\\right]$"
      ],
      "text/plain": [
       "<IPython.core.display.Math object>"
      ]
     },
     "metadata": {},
     "output_type": "display_data"
    },
    {
     "name": "stdout",
     "output_type": "stream",
     "text": [
      "w1 = [-0.6830, 0.1830, -0.7071]\n",
      "w2 = [0.3536, 0.6124, -0.7071]\n",
      "w3 = [0.0616, -0.7044, -0.7071]\n"
     ]
    }
   ],
   "source": [
    "# Define the symbols\n",
    "eta_1, eta_2, eta_3, theta_1, theta_2, theta_3, alpha_1, beta = symbols('eta_1 eta_2 eta_3 theta_1 theta_2 theta_3 alpha_1 beta')\n",
    "\n",
    "# Define the values\n",
    "eta_1 = 2 * (1 - 1) * pi / 3\n",
    "eta_2 = 2 * (2 - 1) * pi / 3    \n",
    "eta_3 = 2 * (3 - 1) * pi / 3\n",
    "theta_1 = 75 * pi / 180\n",
    "theta_2 = 90 * pi / 180\n",
    "theta_3 = 65 * pi / 180\n",
    "\n",
    "alpha_1 = 45 * pi / 180\n",
    "alpha_2 = 90 * pi / 180\n",
    "\n",
    "beta = 90 * pi / 180\n",
    "gamma = 0\n",
    "\n",
    "alpha_3 = 2 * asin(sin(beta) * cos(pi/6))\n",
    "\n",
    "# Define the list of vectors\n",
    "w1 = Matrix([[sin(eta_1-theta_1)*sin(alpha_1)], [cos(eta_1-theta_1)*sin(alpha_1)], [-cos(alpha_1)]])\n",
    "w2 = Matrix([[sin(eta_2-theta_2)*sin(alpha_1)], [cos(eta_2-theta_2)*sin(alpha_1)], [-cos(alpha_1)]])\n",
    "w3 = Matrix([[sin(eta_3-theta_3)*sin(alpha_1)], [cos(eta_3-theta_3)*sin(alpha_1)], [-cos(alpha_1)]])\n",
    "\n",
    "# Print the vectors\n",
    "for i, vector in enumerate([w1, w2, w3], 1):\n",
    "    #print(f\"w_{i}: {vector}\")\n",
    "    display(Math('w' + str(i) + ' = ' + sp.latex(vector)))\n",
    "\n",
    "# Convert the vectors to numerical values\n",
    "w1_numerical = [N(i) for i in sp.N(w1)]\n",
    "w2_numerical = [N(i) for i in sp.N(w2)]\n",
    "w3_numerical = [N(i) for i in sp.N(w3)]\n",
    "\n",
    "# Round the vectors to four decimal places\n",
    "w1_numerical = [round(N(i), 4) for i in w1_numerical]\n",
    "w2_numerical = [round(N(i), 4) for i in w2_numerical]\n",
    "w3_numerical = [round(N(i), 4) for i in w3_numerical]\n",
    "\n",
    "# Print the numerical vectors\n",
    "print(f\"w1 = {w1_numerical}\")\n",
    "print(f\"w2 = {w2_numerical}\")\n",
    "print(f\"w3 = {w3_numerical}\")"
   ]
  },
  {
   "cell_type": "code",
   "execution_count": 95,
   "metadata": {},
   "outputs": [
    {
     "name": "stdout",
     "output_type": "stream",
     "text": [
      "Numerical Solution:\n",
      "v1x = 0.23463833986802626\n",
      "v1y = 0.9717645982306949\n",
      "v1z = 0.024867953062384623\n",
      "v2x = 0.6968541171282346\n",
      "v2y = -0.6767067021251991\n",
      "v2z = -0.2376181363874942\n",
      "v3x = -0.9314924537032421\n",
      "v3y = -0.29505789722967923\n",
      "v3z = 0.21275019618396085\n"
     ]
    }
   ],
   "source": [
    "from scipy.optimize import fsolve\n",
    "import numpy as np\n",
    "\n",
    "# Define the system of equations\n",
    "def equations(variables, *args):\n",
    "    v1x, v1y, v1z, v2x, v2y, v2z, v3x, v3y, v3z = variables\n",
    "    w1, w2, w3 = args\n",
    "\n",
    "    eq1 = w1[0]*v1x + w1[1]*v1y + w1[2]*v1z - np.cos(np.pi/2)\n",
    "    eq2 = w2[0]*v2x + w2[1]*v2y + w2[2]*v2z - np.cos(np.pi/2)\n",
    "    eq3 = w3[0]*v3x + w3[1]*v3y + w3[2]*v3z - np.cos(np.pi/2)\n",
    "    eq4 = v1x*v2x + v1y*v2y + v1z*v2z - np.cos(2*np.arcsin(np.sin(np.pi/2)*np.cos(np.pi/6)))\n",
    "    eq5 = v1x*v3x + v1y*v3y + v1z*v3z - np.cos(2*np.arcsin(np.sin(np.pi/2)*np.cos(np.pi/6)))\n",
    "    eq6 = v3x*v2x + v3y*v2y + v3z*v2z - np.cos(2*np.arcsin(np.sin(np.pi/2)*np.cos(np.pi/6)))\n",
    "    eq7 = np.sqrt(v1x**2 + v1y**2 + v1z**2) - 1\n",
    "    eq8 = np.sqrt(v2x**2 + v2y**2 + v2z**2) - 1\n",
    "    eq9 = np.sqrt(v3x**2 + v3y**2 + v3z**2) - 1\n",
    "\n",
    "    return [eq1, eq2, eq3, eq4, eq5, eq6, eq7, eq8, eq9]\n",
    "\n",
    "# Initial guess\n",
    "# initial_guess = [0, 0, 0, 0, 0, 0, 0, 0, 0]\n",
    "initial_guess = [1, -1, 1, -1, -1, 1, -1, 1, 1]\n",
    "# Solve numerically\n",
    "solution = fsolve(equations, initial_guess, args=(w1, w2, w3))\n",
    "\n",
    "# Display the numerical solution\n",
    "print(\"Numerical Solution:\")\n",
    "print(\"v1x =\", solution[0])\n",
    "print(\"v1y =\", solution[1])\n",
    "print(\"v1z =\", solution[2])\n",
    "print(\"v2x =\", solution[3])\n",
    "print(\"v2y =\", solution[4])\n",
    "print(\"v2z =\", solution[5])\n",
    "print(\"v3x =\", solution[6])\n",
    "print(\"v3y =\", solution[7])\n",
    "print(\"v3z =\", solution[8])\n"
   ]
  },
  {
   "cell_type": "code",
   "execution_count": 96,
   "metadata": {},
   "outputs": [
    {
     "data": {
      "image/png": "[encoded data removed]",
      "text/plain": [
       "<Figure size 432x288 with 1 Axes>"
      ]
     },
     "metadata": {
      "needs_background": "light"
     },
     "output_type": "display_data"
    }
   ],
   "source": [
    "import matplotlib.pyplot as plt\n",
    "from mpl_toolkits.mplot3d import Axes3D\n",
    "from mpl_toolkits.mplot3d.art3d import Poly3DCollection\n",
    "import numpy as np\n",
    "\n",
    "# Define vectors\n",
    "#solution = [-0.5513510841989995, 0.5057847725083133, 0.6634709834282895, -0.4467293728828261, -0.5536160024743392, -0.7028102085257794, 0.9980804570218256, 0.04783123343244586, 0.039339222405068035]\n",
    "#solution = [0.235, 0.972, 0.025, 0.697, -0.677,-0.238, -0.931, -0.295, 0.213] \n",
    "v1 = np.array([solution[0], solution[1], solution[2]])\n",
    "v2 = np.array([solution[3], solution[4], solution[5]])\n",
    "v3 = np.array([solution[6], solution[7], solution[8]])\n",
    "\n",
    "# Create a new figure\n",
    "fig = plt.figure()\n",
    "\n",
    "# Add a 3D subplot\n",
    "ax = fig.add_subplot(111, projection='3d')\n",
    "\n",
    "# Plot the vectors\n",
    "ax.plot([0, v1[0]], [0, v1[1]], [0, v1[2]], color='r')\n",
    "ax.plot([0, v2[0]], [0, v2[1]], [0, v2[2]], color='y')\n",
    "ax.plot([0, v3[0]], [0, v3[1]], [0, v3[2]], color='g')\n",
    "\n",
    "# Plot the triangle\n",
    "triangle = Poly3DCollection([[v1, v2, v3]], facecolor='y', alpha=0.5)\n",
    "ax.add_collection3d(triangle)\n",
    "\n",
    "# Set the limits of the plot\n",
    "ax.set_xlim([-1, 1])\n",
    "ax.set_ylim([-1, 1])\n",
    "ax.set_zlim([-1, 1])\n",
    "ax.view_init(elev=30, azim=60)\n",
    "# Show the plot\n",
    "plt.show()"
   ]
  },
  {
   "cell_type": "markdown",
   "metadata": {},
   "source": [
    "[<img src=\"doc/jupyter_nb/textbox2.jpg\" width=\"50%\" height=\"50%\">](doc/jupyter_nb/textbox2.jpg)"
   ]
  },
  {
   "cell_type": "code",
   "execution_count": 106,
   "metadata": {},
   "outputs": [
    {
     "data": {
      "text/latex": [
       "$\\displaystyle A_1 T_1^2 + 2 B_1 T_1 + C_1 = 0$"
      ],
      "text/plain": [
       "<IPython.core.display.Math object>"
      ]
     },
     "metadata": {},
     "output_type": "display_data"
    },
    {
     "data": {
      "text/latex": [
       "$\\displaystyle A_2 T_2^2 + 2 B_2 T_2 + C_2 = 0$"
      ],
      "text/plain": [
       "<IPython.core.display.Math object>"
      ]
     },
     "metadata": {},
     "output_type": "display_data"
    },
    {
     "data": {
      "text/latex": [
       "$\\displaystyle A_3 T_3^2 + 2 B_3 T_3 + C_3 = 0$"
      ],
      "text/plain": [
       "<IPython.core.display.Math object>"
      ]
     },
     "metadata": {},
     "output_type": "display_data"
    },
    {
     "data": {
      "text/latex": [
       "$\\displaystyle T_1 = \\tan\\left(\\frac{\\theta_1}{2}\\right)$"
      ],
      "text/plain": [
       "<IPython.core.display.Math object>"
      ]
     },
     "metadata": {},
     "output_type": "display_data"
    },
    {
     "data": {
      "text/latex": [
       "$\\displaystyle T_2 = \\tan\\left(\\frac{\\theta_2}{2}\\right)$"
      ],
      "text/plain": [
       "<IPython.core.display.Math object>"
      ]
     },
     "metadata": {},
     "output_type": "display_data"
    },
    {
     "data": {
      "text/latex": [
       "$\\displaystyle T_3 = \\tan\\left(\\frac{\\theta_3}{2}\\right)$"
      ],
      "text/plain": [
       "<IPython.core.display.Math object>"
      ]
     },
     "metadata": {},
     "output_type": "display_data"
    },
    {
     "data": {
      "text/latex": [
       "$\\displaystyle A_i = -v_{iy} \\sin(\\alpha_1) - v_{iz} \\cos(\\alpha_1) - \\cos(\\alpha_2)$"
      ],
      "text/plain": [
       "<IPython.core.display.Math object>"
      ]
     },
     "metadata": {},
     "output_type": "display_data"
    },
    {
     "data": {
      "text/latex": [
       "$\\displaystyle B_i = v_{ix} \\sin(\\alpha_1)$"
      ],
      "text/plain": [
       "<IPython.core.display.Math object>"
      ]
     },
     "metadata": {},
     "output_type": "display_data"
    },
    {
     "data": {
      "text/latex": [
       "$\\displaystyle C_i = v_{iy} \\sin(\\alpha_1) - v_{iz} \\cos(\\alpha_1) - \\cos(\\alpha_2)$"
      ],
      "text/plain": [
       "<IPython.core.display.Math object>"
      ]
     },
     "metadata": {},
     "output_type": "display_data"
    }
   ],
   "source": [
    "from sympy import symbols, sin, cos, tan\n",
    "from IPython.display import display, Math\n",
    "\n",
    "# Define the symbols\n",
    "T_1, T_2, T_3, theta_1, theta_2, theta_3 = symbols('T_1 T_2 T_3 theta_1 theta_2 theta_3')\n",
    "A_1, A_2, A_3, B_1, B_2, B_3, C_1, C_2, C_3 = symbols('A_1 A_2 A_3 B_1 B_2 B_3 C_1 C_2 C_3')\n",
    "v_ix, v_iy, v_iz, alpha1, alpha2 = symbols('v_ix v_iy v_iz alpha1 alpha2')\n",
    "\n",
    "# Define the equations\n",
    "eq1 = A_1*T_1**2 + 2*B_1*T_1 + C_1\n",
    "eq2 = A_2*T_2**2 + 2*B_2*T_2 + C_2\n",
    "eq3 = A_3*T_3**2 + 2*B_3*T_3 + C_3\n",
    "T_1 = tan(theta_1/2)\n",
    "T_2 = tan(theta_2/2)\n",
    "T_3 = tan(theta_3/2)\n",
    "A_i = -v_iy * sin(alpha1) - v_iz * cos(alpha1) - cos(alpha2)\n",
    "B_i = v_ix * sin(alpha1)\n",
    "C_i = v_iy * sin(alpha1) - v_iz * cos(alpha1) - cos(alpha2)\n",
    "\n",
    "# Display the equations\n",
    "display(Math(r'A_1 T_1^2 + 2 B_1 T_1 + C_1 = 0'))\n",
    "display(Math(r'A_2 T_2^2 + 2 B_2 T_2 + C_2 = 0'))\n",
    "display(Math(r'A_3 T_3^2 + 2 B_3 T_3 + C_3 = 0'))\n",
    "display(Math(r'T_1 = \\tan\\left(\\frac{\\theta_1}{2}\\right)'))\n",
    "display(Math(r'T_2 = \\tan\\left(\\frac{\\theta_2}{2}\\right)'))\n",
    "display(Math(r'T_3 = \\tan\\left(\\frac{\\theta_3}{2}\\right)'))\n",
    "display(Math(r'A_i = -v_{iy} \\sin(\\alpha_1) - v_{iz} \\cos(\\alpha_1) - \\cos(\\alpha_2)'))\n",
    "display(Math(r'B_i = v_{ix} \\sin(\\alpha_1)'))\n",
    "display(Math(r'C_i = v_{iy} \\sin(\\alpha_1) - v_{iz} \\cos(\\alpha_1) - \\cos(\\alpha_2)'))"
   ]
  },
  {
   "cell_type": "code",
   "execution_count": 107,
   "metadata": {},
   "outputs": [
    {
     "data": {
      "text/latex": [
       "$\\displaystyle A_1 = - 0.49831627564654 \\sqrt{2}$"
      ],
      "text/plain": [
       "<IPython.core.display.Math object>"
      ]
     },
     "metadata": {},
     "output_type": "display_data"
    },
    {
     "data": {
      "text/latex": [
       "$\\displaystyle B_1 = 0.117319169934013 \\sqrt{2}$"
      ],
      "text/plain": [
       "<IPython.core.display.Math object>"
      ]
     },
     "metadata": {},
     "output_type": "display_data"
    },
    {
     "data": {
      "text/latex": [
       "$\\displaystyle C_1 = 0.473448322584155 \\sqrt{2}$"
      ],
      "text/plain": [
       "<IPython.core.display.Math object>"
      ]
     },
     "metadata": {},
     "output_type": "display_data"
    },
    {
     "name": "stdout",
     "output_type": "stream",
     "text": [
      "Equation A: -A_1 - 0.49831627564654*sqrt(2)\n",
      "Equation B: -B_1 + 0.117319169934013*sqrt(2)\n",
      "Equation C: -C_1 + 0.473448322584155*sqrt(2)\n",
      "Simplified Equation A: -A_1 - 0.49831627564654*sqrt(2)\n",
      "Simplified Equation B: -B_1 + 0.117319169934013*sqrt(2)\n",
      "Simplified Equation C: -C_1 + 0.473448322584155*sqrt(2)\n",
      "Numerical Result A: -A_1 - 0.49831627564654*sqrt(2)\n",
      "Numerical Result B: -B_1 + 0.117319169934013*sqrt(2)\n",
      "Numerical Result C: -C_1 + 0.473448322584155*sqrt(2)\n",
      "Numerical Result A: -A_1 - 0.704725635370586\n",
      "Numerical Result B: 0.165914361247035 - B_1\n",
      "Numerical Result C: 0.669557038881304 - C_1\n"
     ]
    }
   ],
   "source": [
    "from sympy import simplify, solve\n",
    "\n",
    "# These are the numerical solutions that were calculated using Algorithm 1\n",
    "v1x = 0.23463833986802626\n",
    "v1y = 0.9717645982306949\n",
    "v1z = 0.024867953062384623\n",
    "v2x = 0.6968541171282346\n",
    "v2y = -0.6767067021251991\n",
    "v2z = -0.2376181363874942\n",
    "v3x = -0.9314924537032421\n",
    "v3y = -0.29505789722967923\n",
    "v3z = 0.21275019618396085\n",
    "alpha1_value = 45 * pi / 180\n",
    "alpha2_value = 90 * pi / 180\n",
    "\n",
    "A_1 = -v1y * sin(alpha1_value) - v1z * cos(alpha1_value) - cos(alpha2_value)\n",
    "B_1 = v1x * sin(alpha1_value)\n",
    "C_1 = v1y * sin(alpha1_value) - v1z * cos(alpha1_value) - cos(alpha2_value)\n",
    "\n",
    "A_2 = -v2y * sin(alpha1_value) - v2z * cos(alpha1_value) - cos(alpha2_value)\n",
    "B_2 = v2x * sin(alpha1_value)\n",
    "C_2 = v2y * sin(alpha1_value) - v2z * cos(alpha1_value) - cos(alpha2_value)\n",
    "\n",
    "A_3 = -v3y * sin(alpha1_value) - v3z * cos(alpha1_value) - cos(alpha2_value)\n",
    "B_3 = v3x * sin(alpha1_value)\n",
    "C_3 = v3y * sin(alpha1_value) - v3z * cos(alpha1_value) - cos(alpha2_value)\n",
    "\n",
    "display(Math('A_1 = ' + sp.latex(A_1)))\n",
    "display(Math('B_1 = ' + sp.latex(B_1)))\n",
    "display(Math('C_1 = ' + sp.latex(C_1)))\n",
    "\n",
    "T_1 = tan(theta_1/2)\n",
    "T_2 = tan(theta_2/2)\n",
    "T_3 = tan(theta_3/2)\n",
    "\n",
    "eq1 = solve(A_1*T_1**2 + 2*B_1*T_1 + C_1,0)\n",
    "eq2 = solve(A_2*T_2**2 + 2*B_2*T_2 + C_2,0)\n",
    "eq3 = solve(A_3*T_3**2 + 2*B_3*T_3 + C_3,0)\n",
    "\n",
    "A_1, B_1, C_1 = symbols('A_1 B_1 C_1')\n",
    "expression_A = -v1y * sin(alpha1_value) - v1z * cos(alpha1_value) - cos(alpha2_value)\n",
    "expression_B = v1x * sin(alpha1_value)\n",
    "expression_C = v1y * sin(alpha1_value) - v1z * cos(alpha1_value) - cos(alpha2_value)\n",
    "\n",
    "equation_A = expression_A - A_1\n",
    "equation_B = expression_B - B_1\n",
    "equation_C = expression_C - C_1\n",
    "\n",
    "print(\"Equation A:\", equation_A)\n",
    "print(\"Equation B:\", equation_B)\n",
    "print(\"Equation C:\", equation_C)\n",
    "\n",
    "simplified_equation_A = simplify(equation_A)\n",
    "simplified_equation_B = simplify(equation_B)\n",
    "simplified_equation_C = simplify(equation_C)\n",
    "\n",
    "print(\"Simplified Equation A:\", simplified_equation_A)\n",
    "print(\"Simplified Equation B:\", simplified_equation_B)\n",
    "print(\"Simplified Equation C:\", simplified_equation_C)\n",
    "\n",
    "\n",
    "numerical_values = {\n",
    "    alpha1: alpha1_value,\n",
    "    alpha2: alpha2_value,\n",
    "    v1x: 0.23463833986802626,\n",
    "    v1y: 0.9717645982306949,\n",
    "    v1z: 0.024867953062384623,\n",
    "    v2x: 0.6968541171282346,\n",
    "    v2y: -0.6767067021251991,\n",
    "    v2z: -0.2376181363874942,\n",
    "    v3x: -0.9314924537032421,\n",
    "    v3y: -0.29505789722967923,\n",
    "    v3z: 0.21275019618396085\n",
    "}\n",
    "\n",
    "numerical_result_A = simplified_equation_A.subs(numerical_values)\n",
    "numerical_result_B = simplified_equation_B.subs(numerical_values)\n",
    "numerical_result_C = simplified_equation_C.subs(numerical_values)\n",
    "\n",
    "print(\"Numerical Result A:\", numerical_result_A)\n",
    "print(\"Numerical Result B:\", numerical_result_B)\n",
    "print(\"Numerical Result C:\", numerical_result_C)\n",
    "\n",
    "numerical_result_A = numerical_result_A.evalf()\n",
    "numerical_result_B = numerical_result_B.evalf()\n",
    "numerical_result_C = numerical_result_C.evalf()\n",
    "\n",
    "print(\"Numerical Result A:\", numerical_result_A)\n",
    "print(\"Numerical Result B:\", numerical_result_B)\n",
    "print(\"Numerical Result C:\", numerical_result_C)\n"
   ]
  },
  {
   "cell_type": "code",
   "execution_count": null,
   "metadata": {},
   "outputs": [],
   "source": []
  },
  {
   "cell_type": "code",
   "execution_count": 90,
   "metadata": {},
   "outputs": [
    {
     "name": "stdout",
     "output_type": "stream",
     "text": [
      "Equation 1:\n",
      "A_1 = -0.704725635370586\n",
      "B_1 = 0.165914361247035\n",
      "C_1 = 0.669557038881304\n",
      "Equation 2:\n",
      "A_2 = 0.646525293519620\n",
      "B_2 = 0.492750271719139\n",
      "C_2 = -0.310482502374606\n",
      "Equation 3:\n",
      "A_3 = 0.0582003335533026\n",
      "B_3 = -0.658664630637659\n",
      "C_3 = -0.359074546394197\n",
      "Solutions for theta_1 in degrees: [-75.00000000000001, 102.1491668778732]\n",
      "Solutions for theta_2 in degrees: [-121.68071053717237, 29.999999999999964]\n",
      "Solutions for theta_2 in degrees: [-30.15205301953126, 175.0]\n"
     ]
    }
   ],
   "source": [
    "from sympy import symbols, tan, solve\n",
    "from math import degrees\n",
    "\n",
    "# Equation 1\n",
    "A_1_value = A_1.evalf(subs={alpha1: alpha1_value})\n",
    "B_1_value = B_1.evalf(subs={alpha1: alpha1_value})\n",
    "C_1_value = C_1.evalf(subs={alpha1: alpha1_value})\n",
    "\n",
    "# Equation 2\n",
    "A_2_value = A_2.evalf(subs={alpha1: alpha1_value})\n",
    "B_2_value = B_2.evalf(subs={alpha1: alpha1_value})\n",
    "C_2_value = C_2.evalf(subs={alpha1: alpha1_value})\n",
    "\n",
    "# Equation 3\n",
    "A_3_value = A_3.evalf(subs={alpha1: alpha1_value})\n",
    "B_3_value = B_3.evalf(subs={alpha1: alpha1_value})\n",
    "C_3_value = C_3.evalf(subs={alpha1: alpha1_value})\n",
    "\n",
    "# Print the numerical values\n",
    "print(\"Equation 1:\")\n",
    "print(\"A_1 =\", A_1_value)\n",
    "print(\"B_1 =\", B_1_value)\n",
    "print(\"C_1 =\", C_1_value)\n",
    "\n",
    "print(\"Equation 2:\")\n",
    "print(\"A_2 =\", A_2_value)\n",
    "print(\"B_2 =\", B_2_value)\n",
    "print(\"C_2 =\", C_2_value)\n",
    "\n",
    "print(\"Equation 3:\")\n",
    "print(\"A_3 =\", A_3_value)\n",
    "print(\"B_3 =\", B_3_value)\n",
    "print(\"C_3 =\", C_3_value)\n",
    "\n",
    "# Define the symbol\n",
    "theta_1 = symbols('theta_1')\n",
    "theta_1 = symbols('theta_2')\n",
    "theta_1 = symbols('theta_3')\n",
    "\n",
    "# Given values\n",
    "numerical_solution_1 = [A_1_value, B_1_value, C_1_value]\n",
    "numerical_solution_2 = [A_2_value, B_2_value, C_2_value]\n",
    "numerical_solution_3 = [A_3_value, B_3_value, C_3_value]\n",
    "\n",
    "# Define trigonometric functions\n",
    "T_1 = tan(theta_1 / 2)\n",
    "T_2 = tan(theta_2 / 2)\n",
    "T_3 = tan(theta_3 / 2)\n",
    "\n",
    "# Define quadratic equations\n",
    "quadratic_equation_1 = Eq(A_1_value * T_1**2 + 2 * B_1_value * T_1 + C_1_value, 0)\n",
    "quadratic_equation_2 = Eq(A_2_value * T_2**2 + 2 * B_2_value * T_2 + C_2_value, 0)\n",
    "quadratic_equation_3 = Eq(A_3_value * T_3**2 + 2 * B_3_value * T_3 + C_3_value, 0)\n",
    "\n",
    "# Solve for theta_1 in radians\n",
    "solutions_radians_1 = solve(quadratic_equation_1, theta_1)\n",
    "solutions_radians_2 = solve(quadratic_equation_2, theta_2)\n",
    "solutions_radians_3 = solve(quadratic_equation_3, theta_3)\n",
    "\n",
    "# Convert solutions to degrees\n",
    "solutions_degrees_1 = [degrees(sol) for sol in solutions_radians_1]\n",
    "solutions_degrees_2 = [degrees(sol) for sol in solutions_radians_2]\n",
    "solutions_degrees_3 = [degrees(sol) for sol in solutions_radians_3]\n",
    "\n",
    "print(\"Solutions for theta_1 in degrees:\", solutions_degrees_1)\n",
    "print(\"Solutions for theta_2 in degrees:\", solutions_degrees_2)\n",
    "print(\"Solutions for theta_2 in degrees:\", solutions_degrees_3)"
   ]
  }
 ],
 "metadata": {
  "kernelspec": {
   "display_name": "Python 3",
   "language": "python",
   "name": "python3"
  },
  "language_info": {
   "codemirror_mode": {
    "name": "ipython",
    "version": 3
   },
   "file_extension": ".py",
   "mimetype": "text/x-python",
   "name": "python",
   "nbconvert_exporter": "python",
   "pygments_lexer": "ipython3",
   "version": "3.10.4"
  }
 },
 "nbformat": 4,
 "nbformat_minor": 4
}
